{
 "cells": [
  {
   "attachments": {},
   "cell_type": "markdown",
   "metadata": {},
   "source": [
    "# Time Series Ordinal Classification (TSOC) methods\n",
    "\n",
    "In many TSC problems the categories follow an order relationship between them, classifiers taking into account this order can vastly improve the\n",
    "performance achieved by nominal classifiers. Hence, Time Series Ordinal Classification (TSOC) is the field covering this gap, yet unexplored, in the literature. TSOC methods aims to include the categories order information during learning, thus boosting the convergence process.\n",
    "\n",
    "Many UCR problems are ordinal in nature, e.g. the *EthanolConcentration* dataset, in the next figure we can visualize the ordinal information along the time series belonging to different classes of a given patter of this datasetn:\n",
    "\n",
    "<img src=\"./img/ordinal-info-ethanol-concentration.png\" width=\"550\" alt=\"Pipeline classifier.\">"
   ]
  },
  {
   "attachments": {},
   "cell_type": "markdown",
   "metadata": {},
   "source": [
    "### Setup\n",
    "\n",
    "We load the *AtrialFibrillation* dataset, which is ordinal in nature, to test the methodologies."
   ]
  },
  {
   "cell_type": "code",
   "execution_count": 1,
   "metadata": {},
   "outputs": [
    {
     "name": "stdout",
     "output_type": "stream",
     "text": [
      "(15, 2, 640) (15,) (15, 2, 640) (15,)\n"
     ]
    }
   ],
   "source": [
    "from sklearn.metrics import mean_absolute_error\n",
    "\n",
    "from aeon.datasets import load_atrial_fibrillation\n",
    "\n",
    "X_train, y_train = load_atrial_fibrillation(split=\"train\", return_X_y=True)\n",
    "X_test, y_test = load_atrial_fibrillation(split=\"test\", return_X_y=True)\n",
    "\n",
    "print(X_train.shape, y_train.shape, X_test.shape, y_test.shape)"
   ]
  },
  {
   "attachments": {},
   "cell_type": "markdown",
   "metadata": {},
   "source": [
    "### Ordinal convolution-based methods\n",
    "\n",
    "In the ordinal convolution-based methodologies the final set of features obtained from the kernel convolution and pooling operations is standardised and then fed to a LogisticAT classifier, which produces the final output. The convolution process remain unchanged from the nominal version.\n",
    "\n",
    "<img src=\"./img/ordinal_convolution_based_arch.png\" width=\"400\" alt=\"Pipeline classifier.\">"
   ]
  },
  {
   "cell_type": "code",
   "execution_count": 2,
   "metadata": {},
   "outputs": [
    {
     "name": "stdout",
     "output_type": "stream",
     "text": [
      "Method: OrdinalRocketClassifier\n",
      "-- Mean Absolute Error: 1.067 \n",
      "\n",
      "Method: OrdinalMiniRocketClassifier\n",
      "-- Mean Absolute Error: 1.133 \n",
      "\n",
      "Method: OrdinalMultiRocketClassifier\n",
      "-- Mean Absolute Error: 0.867 \n",
      "\n"
     ]
    }
   ],
   "source": [
    "from aeon.classification.ordinal_classification import OrdinalRocketClassifier\n",
    "\n",
    "methods = {\n",
    "    \"OrdinalRocketClassifier\": OrdinalRocketClassifier(\n",
    "        rocket_transform=\"rocket\", num_kernels=100\n",
    "    ),\n",
    "    \"OrdinalMiniRocketClassifier\": OrdinalRocketClassifier(\n",
    "        rocket_transform=\"minirocket\", num_kernels=100\n",
    "    ),\n",
    "    \"OrdinalMultiRocketClassifier\": OrdinalRocketClassifier(\n",
    "        rocket_transform=\"multirocket\", num_kernels=100\n",
    "    ),\n",
    "}\n",
    "\n",
    "for name, clf in methods.items():\n",
    "    print(\"Method:\", name)\n",
    "    clf.fit(X_train, y_train)\n",
    "    y_pred = clf.predict(X_test)\n",
    "    print(\n",
    "        \"-- Mean Absolute Error:\",\n",
    "        round(mean_absolute_error(y_test.astype(int), y_pred), 3),\n",
    "        \"\\n\",\n",
    "    )"
   ]
  },
  {
   "attachments": {},
   "cell_type": "markdown",
   "metadata": {},
   "source": [
    "### Ordinal deep-learning methods\n",
    "\n",
    "In ordinal deep learning techniques the activation layer is replaced by a Cummulative Link Model layer, which exploit the ordinal information of the data.\n",
    "\n",
    "Ordinal InceptionTime Network architecture:\n",
    "\n",
    "<img src=\"./img/ordinal_inceptiontime_arch.png\" width=\"550\" alt=\"Pipeline classifier.\">\n",
    "\n",
    "Ordinal ResNet architecture:\n",
    "\n",
    "<img src=\"./img/ordinal_resnet_arch.png\" width=\"550\" alt=\"Pipeline classifier.\">"
   ]
  },
  {
   "cell_type": "code",
   "execution_count": 4,
   "metadata": {},
   "outputs": [
    {
     "name": "stdout",
     "output_type": "stream",
     "text": [
      "Method: OrdinalInceptionTime\n"
     ]
    },
    {
     "name": "stdout",
     "output_type": "stream",
     "text": [
      "\u001b[1m1/1\u001b[0m \u001b[32m━━━━━━━━━━━━━━━━━━━━\u001b[0m\u001b[37m\u001b[0m \u001b[1m1s\u001b[0m 530ms/step\n",
      "\u001b[1m1/1\u001b[0m \u001b[32m━━━━━━━━━━━━━━━━━━━━\u001b[0m\u001b[37m\u001b[0m \u001b[1m1s\u001b[0m 515ms/step\n",
      "-- Mean Absolute Error: 1.1333333333333333 \n",
      "\n"
     ]
    }
   ],
   "source": [
    "import warnings\n",
    "\n",
    "warnings.filterwarnings(\"ignore\", category=FutureWarning)\n",
    "import os\n",
    "\n",
    "os.environ[\"TF_CPP_MIN_LOG_LEVEL\"] = \"3\"\n",
    "import tensorflow as tf\n",
    "\n",
    "tf.get_logger().setLevel(\"ERROR\")\n",
    "\n",
    "from aeon.classification.ordinal_classification.deep_learning import (\n",
    "    OrdinalInceptionTimeClassifier,\n",
    ")\n",
    "\n",
    "methods = {\n",
    "    \"OrdinalInceptionTime\": OrdinalInceptionTimeClassifier(n_classifiers=2, n_epochs=30, save_best_model=False),\n",
    "}\n",
    "\n",
    "for name, clf in methods.items():\n",
    "    print(\"Method:\", name)\n",
    "    clf.fit(X_train, y_train)\n",
    "    y_pred = clf.predict(X_test)\n",
    "    print(\n",
    "        \"-- Mean Absolute Error:\", mean_absolute_error(y_test.astype(int), y_pred), \"\\n\"\n",
    "    )"
   ]
  }
 ],
 "metadata": {
  "kernelspec": {
   "display_name": "ayrna",
   "language": "python",
   "name": "python3"
  },
  "language_info": {
   "codemirror_mode": {
    "name": "ipython",
    "version": 3
   },
   "file_extension": ".py",
   "mimetype": "text/x-python",
   "name": "python",
   "nbconvert_exporter": "python",
   "pygments_lexer": "ipython3",
   "version": "3.10.14"
  },
  "orig_nbformat": 4
 },
 "nbformat": 4,
 "nbformat_minor": 2
}
